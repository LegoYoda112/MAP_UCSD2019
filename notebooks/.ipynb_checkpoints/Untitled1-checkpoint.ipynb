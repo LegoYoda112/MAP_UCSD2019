{
 "cells": [
  {
   "cell_type": "code",
   "execution_count": 299,
   "metadata": {},
   "outputs": [],
   "source": [
    "import pvlib\n",
    "import datetime\n",
    "from math import sin, cos, degrees, radians, acos"
   ]
  },
  {
   "cell_type": "code",
   "execution_count": 289,
   "metadata": {},
   "outputs": [
    {
     "name": "stdout",
     "output_type": "stream",
     "text": [
      "4710.48 watts\n"
     ]
    }
   ],
   "source": [
    "print(pvlib.pvsystem.pvwatts_dc(g_poa_effective = 912, temp_cell = 14, pdc0 = 5000, gamma_pdc = -0.003), \"watts\")"
   ]
  },
  {
   "cell_type": "code",
   "execution_count": 301,
   "metadata": {},
   "outputs": [
    {
     "name": "stdout",
     "output_type": "stream",
     "text": [
      "11:20:09.412553\n",
      "0.0\n",
      "2019-05-01 11:20:09.412553   -19.827677\n",
      "Name: elevation, dtype: float64\n",
      "0.8414709848078965\n"
     ]
    }
   ],
   "source": [
    "testTime = datetime.datetime.now()\n",
    "\n",
    "print(testTime.time())\n",
    "\n",
    "lat = 32.9483\n",
    "lon = -117.12299\n",
    "\n",
    "array_tilt = 0.0\n",
    "array_azimuth = 0.0\n",
    "\n",
    "solar_zenith = 0.0\n",
    "solar_azimith = 0.0\n",
    "\n",
    "array_tilt = radians(array_tilt)\n",
    "array_azimuth = radians(array_azimuth)\n",
    "\n",
    "solar_zenith = radians(solar_zenith)\n",
    "solar_azimith = radians(solar_azimith)\n",
    "\n",
    "#Angle of incidence\n",
    "AOI = acos(cos(solar_zenith) * cos(array_tilt) + sin(solar_zenith) * sin(array_tilt)*cos(solar_azimith - array_azimuth))\n",
    "\n",
    "print(AOI)\n",
    "\n",
    "poa_effective = 1\n",
    "\n",
    "print(pvlib.solarposition.get_solarposition(testTime, lat, lon).elevation)\n",
    "\n",
    "print(sin(1))"
   ]
  }
 ],
 "metadata": {
  "kernelspec": {
   "display_name": "Python 3",
   "language": "python",
   "name": "python3"
  },
  "language_info": {
   "codemirror_mode": {
    "name": "ipython",
    "version": 3
   },
   "file_extension": ".py",
   "mimetype": "text/x-python",
   "name": "python",
   "nbconvert_exporter": "python",
   "pygments_lexer": "ipython3",
   "version": "3.7.3"
  }
 },
 "nbformat": 4,
 "nbformat_minor": 2
}
