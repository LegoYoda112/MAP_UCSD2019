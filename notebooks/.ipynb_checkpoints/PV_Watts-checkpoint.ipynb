{
 "cells": [
  {
   "cell_type": "code",
   "execution_count": 6,
   "metadata": {},
   "outputs": [],
   "source": [
    "import pvlib as pv\n",
    "from datetime import datetime\n",
    "from datetime import timedelta\n",
    "from math import sin, cos, degrees, radians, acos"
   ]
  },
  {
   "cell_type": "code",
   "execution_count": 347,
   "metadata": {},
   "outputs": [
    {
     "name": "stdout",
     "output_type": "stream",
     "text": [
      "4710.48 watts\n"
     ]
    }
   ],
   "source": [
    "print(pvlib.pvsystem.pvwatts_dc(g_poa_effective = 912, temp_cell = 14, pdc0 = 5000, gamma_pdc = -0.003), \"watts\")"
   ]
  },
  {
   "cell_type": "code",
   "execution_count": 18,
   "metadata": {},
   "outputs": [],
   "source": [
    "def calcPVWatts(time, hoursOffset, tilt, azimuth, direct, diffuse, temp, lat, lon):\n",
    "    calcTime = time + timedelta(hours = hoursOffset)\n",
    "\n",
    "    location = pv.location.Location(float(lat), float(lon))\n",
    "    \n",
    "    DNI = direct\n",
    "    DHI = diffuse\n",
    "\n",
    "    solarPosition = pv.solarposition.get_solarposition(calcTime, lat, lon)\n",
    "\n",
    "    array_tilt_degrees = tilt\n",
    "    array_azimuth_degrees = azimuth\n",
    "\n",
    "    solar_zenith_degrees = solarPosition.zenith\n",
    "    solar_azimuth_degrees = solarPosition.azimuth\n",
    "\n",
    "    array_tilt_radians = radians(array_tilt_degrees)\n",
    "    array_azimuth_radians = radians(array_azimuth_degrees)\n",
    "\n",
    "    solar_zenith_radians = radians(solar_zenith_degrees)\n",
    "    solar_azimuth_radians = radians(solar_azimuth_degrees)\n",
    "\n",
    "    #Angle of incidence\n",
    "    AOI_radians = acos(cos(solar_zenith_radians) * cos(array_tilt_radians) \n",
    "                       + sin(solar_zenith_radians) * sin(array_tilt_radians)\n",
    "                       *cos(solar_azimuth_radians - array_azimuth_radians))\n",
    "    AOI_degrees = degrees(AOI_radians)\n",
    "\n",
    "    POA_beam = DNI * cos(AOI_radians)\n",
    "    POA_sky_diffuse = DHI * ((1+cos(array_tilt_radians))/2)\n",
    "    POA_irradiance = POA_beam + POA_sky_diffuse\n",
    "    \n",
    "    pv_watts = pvlib.pvsystem.pvwatts_dc(g_poa_effective = POA_irradiance, temp_cell = temp, pdc0 = 5000, gamma_pdc = -0.003), \"watts\"\n",
    "    return(POA_irradiance)"
   ]
  },
  {
   "cell_type": "code",
   "execution_count": 44,
   "metadata": {},
   "outputs": [
    {
     "name": "stdout",
     "output_type": "stream",
     "text": [
      "889.2541622396825\n"
     ]
    }
   ],
   "source": [
    "print(calcPVWatts(datetime.now(), 7, 15, 45, 1000, 10, 32.948, -117.1229))"
   ]
  },
  {
   "cell_type": "code",
   "execution_count": 343,
   "metadata": {},
   "outputs": [
    {
     "name": "stdout",
     "output_type": "stream",
     "text": [
      "2019-05-01 18:46:36.755840    915.329515\n",
      "dtype: float64\n"
     ]
    }
   ],
   "source": [
    "lat = 32.9483\n",
    "lon = -117.12299\n",
    "\n",
    "testTime = datetime.now() + timedelta(hours = 7)\n",
    "\n",
    "location = pvlib.location.Location(float(lat), float(lon))\n",
    "\n",
    "clearsky = location.get_clearsky(testTime, model='ineichen', linke_turbidity=3)\n",
    "\n",
    "DNI = clearsky.dni\n",
    "DHI = clearsky.dhi\n",
    "\n",
    "solarPosition = pvlib.solarposition.get_solarposition(testTime, lat, lon)\n",
    "\n",
    "array_tilt_degrees = 15.0\n",
    "array_azimuth_degrees = 45\n",
    "\n",
    "solar_zenith_degrees = solarPosition.zenith\n",
    "solar_azimuth_degrees = solarPosition.azimuth\n",
    "\n",
    "array_tilt_radians = radians(array_tilt_degrees)\n",
    "array_azimuth_radians = radians(array_azimuth_degrees)\n",
    "\n",
    "solar_zenith_radians = radians(solar_zenith_degrees)\n",
    "solar_azimuth_radians = radians(solar_azimuth_degrees)\n",
    "\n",
    "#Angle of incidence\n",
    "AOI_radians = acos(cos(solar_zenith_radians) * cos(array_tilt_radians) \n",
    "                   + sin(solar_zenith_radians) * sin(array_tilt_radians)\n",
    "                   *cos(solar_azimuth_radians - array_azimuth_radians))\n",
    "AOI_degrees = degrees(AOI_radians)\n",
    "\n",
    "POA_beam = DNI * cos(AOI_radians)\n",
    "POA_sky_diffuse = DHI * ((1+cos(array_tilt_radians))/2)\n",
    "POA_irradiance = POA_beam + POA_sky_diffuse\n",
    "\n",
    "print(POA_irradiance)"
   ]
  },
  {
   "cell_type": "code",
   "execution_count": 346,
   "metadata": {},
   "outputs": [
    {
     "name": "stdout",
     "output_type": "stream",
     "text": [
      "2019-05-01 18:46:36.755840    4727.676946\n",
      "dtype: float64 watts\n"
     ]
    }
   ],
   "source": [
    "print(pvlib.pvsystem.pvwatts_dc(g_poa_effective = POA_irradiance, temp_cell = 14, pdc0 = 5000, gamma_pdc = -0.003), \"watts\")"
   ]
  }
 ],
 "metadata": {
  "kernelspec": {
   "display_name": "Python 3",
   "language": "python",
   "name": "python3"
  },
  "language_info": {
   "codemirror_mode": {
    "name": "ipython",
    "version": 3
   },
   "file_extension": ".py",
   "mimetype": "text/x-python",
   "name": "python",
   "nbconvert_exporter": "python",
   "pygments_lexer": "ipython3",
   "version": "3.7.3"
  }
 },
 "nbformat": 4,
 "nbformat_minor": 2
}
